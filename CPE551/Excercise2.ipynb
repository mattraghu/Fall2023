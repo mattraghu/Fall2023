{
 "cells": [
  {
   "cell_type": "code",
   "execution_count": 3,
   "metadata": {},
   "outputs": [
    {
     "name": "stdout",
     "output_type": "stream",
     "text": [
      "4\n",
      "Physics\n",
      "3\n",
      "4\n"
     ]
    }
   ],
   "source": [
    "#a) Create a tuple named subjects containing the strings \"Math\", \"Physics\", \"Chemistry\", and \"Biology\"\n",
    "#b) Print the length of the tuple.\n",
    "#c) Access and print the second element of the tuple.\n",
    "#2. Given the tuple student data = (\"John Doe\", 25, \"Computer Science\", 3.8), perform the following:\n",
    "#Unpack the tuple into four separate variables: name, age, major, and GPA.\n",
    "#3. Given the tuple numbers = (4, 2, 8, 2, 9, 2, 10), perform the following:\n",
    "#a) Count the number of occurrences of 2 in the tuple.\n",
    "#b) Find the index of the first occurrence of 9 in the tuple.\n",
    "\n",
    "subjects = (\"Math\", \"Physics\", \"Chemistry\", \"Biology\")\n",
    "print(len(subjects))\n",
    "print(subjects[1])\n",
    "\n",
    "student_data = (\"John Doe\", 25, \"Computer Science\", 3.8)\n",
    "name, age, major, GPA = student_data\n",
    "\n",
    "numbers = (4, 2, 8, 2, 9, 2, 10)\n",
    "print(numbers.count(2))\n",
    "print(numbers.index(9))"
   ]
  },
  {
   "cell_type": "code",
   "execution_count": 20,
   "metadata": {},
   "outputs": [
    {
     "data": {
      "text/plain": [
       "97"
      ]
     },
     "execution_count": 20,
     "metadata": {},
     "output_type": "execute_result"
    }
   ],
   "source": [
    "ord('a')"
   ]
  },
  {
   "cell_type": "code",
   "execution_count": 18,
   "metadata": {},
   "outputs": [],
   "source": [
    "a = {\n",
    "    'a':1\n",
    "}"
   ]
  },
  {
   "cell_type": "markdown",
   "metadata": {},
   "source": []
  },
  {
   "cell_type": "code",
   "execution_count": 49,
   "metadata": {},
   "outputs": [],
   "source": [
    "class Solution:\n",
    "    bestVal = -777\n",
    "    bestLayout = []\n",
    "\n",
    "    def removeDuplicateLetters(self, s: str) -> str:\n",
    "        #Convert s to ascii code\n",
    "        s = [ord(c) for c in s]\n",
    "        chars = {}\n",
    "\n",
    "        for i,c in enumerate(s): \n",
    "            if not c in chars: chars[c]=[]\n",
    "            chars[c].append(i)\n",
    "\n",
    "        self.bestVal = -777 #Higher is better\n",
    "        self.bestLayout = s\n",
    "\n",
    "        def getLexOrderValue(s):\n",
    "            val = 0\n",
    "            for i,c in enumerate(s):\n",
    "                if c == -1: continue\n",
    "                # if i == 0: continue\n",
    "                prev_i = i-1\n",
    "\n",
    "                while(prev_i>=0):\n",
    "                    prevC = s[prev_i]\n",
    "                    if prevC != -1:\n",
    "                        val += c-prevC\n",
    "                        break\n",
    "                    prev_i-=1\n",
    "\n",
    "            return val\n",
    "\n",
    "        def copyTable(table,indexes): #Set indexes to 0\n",
    "            copy = []\n",
    "            for i,v in enumerate(table):\n",
    "                if i in indexes:\n",
    "                    copy.append(-1)\n",
    "                else:\n",
    "                    copy.append(v)\n",
    "            return copy\n",
    "\n",
    "        def convertToString(s):\n",
    "            finalS = ''\n",
    "            for c in s:\n",
    "                if c != -1:\n",
    "                    finalS+=chr(c)\n",
    "            return finalS\n",
    "\n",
    "        def findBest(currentS,charCode):\n",
    "            if charCode > 123: #No more codes\n",
    "                #Check\n",
    "                val = getLexOrderValue(currentS)\n",
    "                print(convertToString(currentS),val)\n",
    "                if val >= self.bestVal:\n",
    "                    self.bestVal = val\n",
    "                    self.bestLayout = currentS \n",
    "                return\n",
    "            if not(charCode in chars):\n",
    "                findBest(currentS,charCode+1)\n",
    "                return\n",
    "            indexes = chars[charCode]\n",
    "\n",
    "            if len(indexes) == 1:\n",
    "                findBest(currentS,charCode+1)\n",
    "\n",
    "\n",
    "            for index in indexes:\n",
    "                copy = copyTable(currentS, indexes)\n",
    "                copy[index] = charCode\n",
    "                findBest(copy,charCode+1)\n",
    "\n",
    "        findBest(s,97)\n",
    "\n",
    "        finalS = ''\n",
    "        for c in self.bestLayout:\n",
    "            if c != -1:\n",
    "                finalS+=chr(c)\n",
    "\n",
    "        return finalS\n",
    "\n",
    "            \n",
    "            \n",
    "            \n",
    "                \n",
    "                             \n",
    "        "
   ]
  },
  {
   "cell_type": "code",
   "execution_count": 50,
   "metadata": {},
   "outputs": [
    {
     "name": "stdout",
     "output_type": "stream",
     "text": [
      "cbad 1\n",
      "cbad 1\n",
      "bacd 2\n",
      "bacd 2\n",
      "badc 1\n",
      "badc 1\n",
      "badc 1\n",
      "badc 1\n",
      "cadb -1\n",
      "cadb -1\n",
      "acdb 1\n",
      "acdb 1\n",
      "adcb 1\n",
      "adcb 1\n",
      "adbc 2\n",
      "adbc 2\n",
      "cbad 1\n",
      "cbad 1\n",
      "bacd 2\n",
      "bacd 2\n",
      "badc 1\n",
      "badc 1\n",
      "badc 1\n",
      "badc 1\n",
      "cadb -1\n",
      "cadb -1\n",
      "acdb 1\n",
      "acdb 1\n",
      "adcb 1\n",
      "adcb 1\n",
      "adbc 2\n",
      "adbc 2\n",
      "adbc\n"
     ]
    }
   ],
   "source": [
    "#try on 'hello'\n",
    "\n",
    "s = Solution()\n",
    "print(s.removeDuplicateLetters(\"cbacdcbc\"))\n"
   ]
  },
  {
   "cell_type": "code",
   "execution_count": 47,
   "metadata": {},
   "outputs": [
    {
     "name": "stdout",
     "output_type": "stream",
     "text": [
      "1\n"
     ]
    }
   ],
   "source": [
    "#Get lex val of 'adbc'\n",
    "s = [ord(c) for c in 'acdb']\n",
    "\n",
    "val = 0\n",
    "for i,c in enumerate(s):\n",
    "    if i == 0: continue\n",
    "    prev_i = i-1\n",
    "    while(prev_i>=0):\n",
    "        prevC = s[prev_i]\n",
    "        if prevC != -1:\n",
    "            val += c-prevC\n",
    "            break\n",
    "        prev_i-=1\n",
    "\n",
    "print(val)\n"
   ]
  },
  {
   "cell_type": "code",
   "execution_count": 25,
   "metadata": {},
   "outputs": [
    {
     "data": {
      "text/plain": [
       "\"[None, 'b', None]\""
      ]
     },
     "execution_count": 25,
     "metadata": {},
     "output_type": "execute_result"
    }
   ],
   "source": [
    "s = 'abc'\n",
    "# [if c == 'b': c for c in s] #this wont work instead use lambda\n",
    "str(\n",
    "list(map(lambda c: c if c == 'b' else None, s))\n",
    ")"
   ]
  },
  {
   "cell_type": "code",
   "execution_count": 15,
   "metadata": {},
   "outputs": [
    {
     "name": "stdout",
     "output_type": "stream",
     "text": [
      "AA\n"
     ]
    }
   ],
   "source": [
    "#check if 'b' is in a\n",
    "if 'a' in a:\n",
    "    print(\"AA\")"
   ]
  },
  {
   "cell_type": "code",
   "execution_count": null,
   "metadata": {},
   "outputs": [],
   "source": []
  },
  {
   "cell_type": "code",
   "execution_count": 11,
   "metadata": {},
   "outputs": [
    {
     "data": {
      "text/plain": [
       "[]"
      ]
     },
     "execution_count": 11,
     "metadata": {},
     "output_type": "execute_result"
    }
   ],
   "source": [
    "[]*3"
   ]
  }
 ],
 "metadata": {
  "kernelspec": {
   "display_name": "Python 3.11.3 64-bit",
   "language": "python",
   "name": "python3"
  },
  "language_info": {
   "codemirror_mode": {
    "name": "ipython",
    "version": 3
   },
   "file_extension": ".py",
   "mimetype": "text/x-python",
   "name": "python",
   "nbconvert_exporter": "python",
   "pygments_lexer": "ipython3",
   "version": "3.11.3"
  },
  "orig_nbformat": 4,
  "vscode": {
   "interpreter": {
    "hash": "b0fa6594d8f4cbf19f97940f81e996739fb7646882a419484c72d19e05852a7e"
   }
  }
 },
 "nbformat": 4,
 "nbformat_minor": 2
}
