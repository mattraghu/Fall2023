{
 "cells": [
  {
   "cell_type": "code",
   "execution_count": 1,
   "metadata": {},
   "outputs": [],
   "source": [
    "import copy"
   ]
  },
  {
   "cell_type": "code",
   "execution_count": 6,
   "metadata": {},
   "outputs": [
    {
     "name": "stdout",
     "output_type": "stream",
     "text": [
      "[[1, 2, 3], ['x', 'y', 'z']]\n",
      "[[1, 2, 3], ['x', 'y', 'z']]\n",
      "[[1, 2, 3], ['x', 4, 'z']]\n",
      "[[1, 2, 3], ['x', 'y', 'z']]\n"
     ]
    }
   ],
   "source": [
    "L = [[1,2,3],['x','y','z']]\n",
    "M = copy.copy(L)\n",
    "print(M)\n",
    "N = copy.deepcopy(L)\n",
    "print(N)\n",
    "\n",
    "L[1][1] = 4\n",
    "print(M)\n",
    "print(N)"
   ]
  },
  {
   "cell_type": "code",
   "execution_count": 9,
   "metadata": {},
   "outputs": [
    {
     "data": {
      "text/plain": [
       "'3.141593'"
      ]
     },
     "execution_count": 9,
     "metadata": {},
     "output_type": "execute_result"
    }
   ],
   "source": [
    "math_pi = 3.141592653589793\n",
    "# Format the variable math_pi as a string, keep the 6 decimal space, assign it to variable string_pi \n",
    "\n",
    "\"{:.6f}\".format(math_pi)"
   ]
  },
  {
   "cell_type": "code",
   "execution_count": 11,
   "metadata": {},
   "outputs": [
    {
     "data": {
      "text/plain": [
       "'    13    '"
      ]
     },
     "execution_count": 11,
     "metadata": {},
     "output_type": "execute_result"
    }
   ],
   "source": [
    "small_number = 13\n",
    "\n",
    "# Format small_number to a string center_string in Center aligned(width 10) format.\n",
    "\n",
    "\"{:^10d}\".format(small_number)"
   ]
  },
  {
   "cell_type": "code",
   "execution_count": 12,
   "metadata": {},
   "outputs": [
    {
     "data": {
      "text/plain": [
       "{1, 2, 3, 4, 5, 6}"
      ]
     },
     "execution_count": 12,
     "metadata": {},
     "output_type": "execute_result"
    }
   ],
   "source": [
    "S1 = {1, 2, 3, 4}\n",
    "S2 = {3, 4, 5, 6}\n",
    "\n",
    "# Add 0 to set S1\n",
    "\n",
    "# Assign the union of S1 and S2 to variable union_s\n",
    "\n",
    "S1.union(S2)"
   ]
  }
 ],
 "metadata": {
  "kernelspec": {
   "display_name": "Python 3.11.3 64-bit",
   "language": "python",
   "name": "python3"
  },
  "language_info": {
   "codemirror_mode": {
    "name": "ipython",
    "version": 3
   },
   "file_extension": ".py",
   "mimetype": "text/x-python",
   "name": "python",
   "nbconvert_exporter": "python",
   "pygments_lexer": "ipython3",
   "version": "3.11.3"
  },
  "orig_nbformat": 4,
  "vscode": {
   "interpreter": {
    "hash": "b0fa6594d8f4cbf19f97940f81e996739fb7646882a419484c72d19e05852a7e"
   }
  }
 },
 "nbformat": 4,
 "nbformat_minor": 2
}
