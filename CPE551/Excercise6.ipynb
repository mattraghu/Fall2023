{
 "cells": [
  {
   "cell_type": "code",
   "execution_count": 2,
   "metadata": {},
   "outputs": [
    {
     "name": "stdout",
     "output_type": "stream",
     "text": [
      "Actual:  7  Expected:  7\n",
      "Actual:  0  Expected:  0\n",
      "Actual:  10  Expected:  10\n",
      "Actual:  3  Expected:  3\n"
     ]
    }
   ],
   "source": [
    "# Complete the following program. (You must use recursion and do not use the\n",
    "# built-in Python function len.\n",
    "# def my_length(L):\n",
    "# ''''''L is a list. This function returns len(L)\"''\n",
    "\n",
    "\n",
    "def my_length(L):\n",
    "    if not L: return 0 \n",
    "    return 1 + my_length(L[1:])\n",
    "\n",
    "testLists = [\n",
    "    [1,31902349012,1,2910,1,2,3],\n",
    "    [],\n",
    "    [1,2,3,4,5,6,7,8,9,10],\n",
    "    [2,391,1]\n",
    "]\n",
    "\n",
    "for testList in testLists:\n",
    "    print(\"Actual: \", my_length(testList), \" Expected: \", len(testList))\n",
    "    "
   ]
  }
 ],
 "metadata": {
  "kernelspec": {
   "display_name": "Python 3",
   "language": "python",
   "name": "python3"
  },
  "language_info": {
   "codemirror_mode": {
    "name": "ipython",
    "version": 3
   },
   "file_extension": ".py",
   "mimetype": "text/x-python",
   "name": "python",
   "nbconvert_exporter": "python",
   "pygments_lexer": "ipython3",
   "version": "3.11.3"
  }
 },
 "nbformat": 4,
 "nbformat_minor": 2
}
