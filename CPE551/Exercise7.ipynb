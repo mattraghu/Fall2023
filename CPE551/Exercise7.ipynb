{
 "cells": [
  {
   "cell_type": "code",
   "execution_count": 4,
   "metadata": {},
   "outputs": [
    {
     "name": "stdout",
     "output_type": "stream",
     "text": [
      "77000\n",
      "10\n"
     ]
    }
   ],
   "source": [
    "class Person:\n",
    "    def __init__(self, name, age):\n",
    "        self.name = name\n",
    "        self.age = age\n",
    "\n",
    "\n",
    "class Employee(Person):\n",
    "    def compute_salary(self):\n",
    "        return 40000  \n",
    "\n",
    "    def number_of_vacation(self):\n",
    "        return 10  \n",
    "\n",
    "class Engineer(Employee):\n",
    "    def compute_salary(self):\n",
    "        return 77000 \n",
    "\n",
    "class Manager(Employee):\n",
    "    def compute_salary(self):\n",
    "        return 100000\n",
    "\n",
    "    def number_of_vacation(self):\n",
    "        return 20 \n",
    "    \n",
    "engineer = Engineer('John', 35) #Salary: 77000, Vacation: 10\n",
    "manager = Manager('Bob', 42) #Salary: 100000, Vacation: 20\n",
    "\n"
   ]
  },
  {
   "cell_type": "code",
   "execution_count": null,
   "metadata": {},
   "outputs": [],
   "source": []
  }
 ],
 "metadata": {
  "kernelspec": {
   "display_name": "Python 3",
   "language": "python",
   "name": "python3"
  },
  "language_info": {
   "codemirror_mode": {
    "name": "ipython",
    "version": 3
   },
   "file_extension": ".py",
   "mimetype": "text/x-python",
   "name": "python",
   "nbconvert_exporter": "python",
   "pygments_lexer": "ipython3",
   "version": "3.11.3"
  }
 },
 "nbformat": 4,
 "nbformat_minor": 2
}
