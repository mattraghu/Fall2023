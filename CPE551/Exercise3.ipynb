{
 "cells": [
  {
   "cell_type": "code",
   "execution_count": 5,
   "metadata": {},
   "outputs": [
    {
     "name": "stdout",
     "output_type": "stream",
     "text": [
      "{'mary'}\n",
      "False\n"
     ]
    }
   ],
   "source": [
    "# 1. You are given the following list, L.\n",
    "# L= [1, 2, 3, 4, 5, 3, 4, 5, 6]\n",
    "# Using Python set comprehension, write the Python code to generate a set of the squares of the\n",
    "# elements in the list. Note: there should not be any duplicates in your set.\n",
    "# 2. You are given the following two sets:\n",
    "# Engineers=('bill', 'mary', 'ed', 'matthew'}\n",
    "# Manager=('tom', 'mary'}\n",
    "# I\n",
    "# Write the Python code to determine: Who is both an engineer and a manager?\n",
    "# Il.\n",
    "# Write the Python code to determine: Are all managers engineers?\n",
    "\n",
    "# 1.\n",
    "L = [1, 2, 3, 4, 5, 3, 4, 5, 6]\n",
    "s = {x**2 for x in L}\n",
    "\n",
    "# 2.\n",
    "Engineers = {'bill', 'mary', 'ed', 'matthew'}\n",
    "Manager = {'tom', 'mary'}\n",
    "\n",
    "# I\n",
    "print(Engineers & Manager)\n",
    "# II\n",
    "print(Manager <= Engineers)\n"
   ]
  }
 ],
 "metadata": {
  "kernelspec": {
   "display_name": "Python 3.11.3 64-bit",
   "language": "python",
   "name": "python3"
  },
  "language_info": {
   "codemirror_mode": {
    "name": "ipython",
    "version": 3
   },
   "file_extension": ".py",
   "mimetype": "text/x-python",
   "name": "python",
   "nbconvert_exporter": "python",
   "pygments_lexer": "ipython3",
   "version": "3.11.3"
  },
  "orig_nbformat": 4,
  "vscode": {
   "interpreter": {
    "hash": "b0fa6594d8f4cbf19f97940f81e996739fb7646882a419484c72d19e05852a7e"
   }
  }
 },
 "nbformat": 4,
 "nbformat_minor": 2
}
